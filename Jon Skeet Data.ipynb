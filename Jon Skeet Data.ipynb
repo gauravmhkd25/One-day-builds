{
 "cells": [
  {
   "cell_type": "code",
   "execution_count": 1,
   "metadata": {},
   "outputs": [],
   "source": [
    "# url = 'https://github.com/jskeet?tab=overview&from=2008-12-01&to=2008-12-31'\n",
    "url_with_years = {}\n",
    "step = 2008\n",
    "for year in range(2008, 2020):\n",
    "    url_with_years[step]=f\"https://github.com/jskeet?tab=overview&from={year}-12-01&to={year}-12-31\"\n",
    "    step+=1\n",
    "from bs4 import BeautifulSoup as bs"
   ]
  },
  {
   "cell_type": "code",
   "execution_count": 2,
   "metadata": {},
   "outputs": [
    {
     "data": {
      "text/plain": [
       "{2008: 'https://github.com/jskeet?tab=overview&from=2008-12-01&to=2008-12-31',\n",
       " 2009: 'https://github.com/jskeet?tab=overview&from=2009-12-01&to=2009-12-31',\n",
       " 2010: 'https://github.com/jskeet?tab=overview&from=2010-12-01&to=2010-12-31',\n",
       " 2011: 'https://github.com/jskeet?tab=overview&from=2011-12-01&to=2011-12-31',\n",
       " 2012: 'https://github.com/jskeet?tab=overview&from=2012-12-01&to=2012-12-31',\n",
       " 2013: 'https://github.com/jskeet?tab=overview&from=2013-12-01&to=2013-12-31',\n",
       " 2014: 'https://github.com/jskeet?tab=overview&from=2014-12-01&to=2014-12-31',\n",
       " 2015: 'https://github.com/jskeet?tab=overview&from=2015-12-01&to=2015-12-31',\n",
       " 2016: 'https://github.com/jskeet?tab=overview&from=2016-12-01&to=2016-12-31',\n",
       " 2017: 'https://github.com/jskeet?tab=overview&from=2017-12-01&to=2017-12-31',\n",
       " 2018: 'https://github.com/jskeet?tab=overview&from=2018-12-01&to=2018-12-31',\n",
       " 2019: 'https://github.com/jskeet?tab=overview&from=2019-12-01&to=2019-12-31'}"
      ]
     },
     "execution_count": 2,
     "metadata": {},
     "output_type": "execute_result"
    }
   ],
   "source": [
    "url_with_years"
   ]
  },
  {
   "cell_type": "code",
   "execution_count": 218,
   "metadata": {},
   "outputs": [
    {
     "name": "stderr",
     "output_type": "stream",
     "text": [
      "C:\\Users\\User\\Anaconda3\\lib\\site-packages\\urllib3\\connectionpool.py:847: InsecureRequestWarning: Unverified HTTPS request is being made. Adding certificate verification is strongly advised. See: https://urllib3.readthedocs.io/en/latest/advanced-usage.html#ssl-warnings\n",
      "  InsecureRequestWarning)\n"
     ]
    }
   ],
   "source": [
    "import urllib3\n",
    "http = urllib3.PoolManager()\n",
    "content = http.request(\"GET\",'https://github.com/jskeet?tab=overview&from=2010-12-01&to=2010-12-31')"
   ]
  },
  {
   "cell_type": "code",
   "execution_count": 219,
   "metadata": {},
   "outputs": [],
   "source": [
    "soup = bs(content.data)\n"
   ]
  },
  {
   "cell_type": "code",
   "execution_count": 222,
   "metadata": {},
   "outputs": [
    {
     "name": "stderr",
     "output_type": "stream",
     "text": [
      "C:\\Users\\User\\Anaconda3\\lib\\site-packages\\urllib3\\connectionpool.py:847: InsecureRequestWarning: Unverified HTTPS request is being made. Adding certificate verification is strongly advised. See: https://urllib3.readthedocs.io/en/latest/advanced-usage.html#ssl-warnings\n",
      "  InsecureRequestWarning)\n",
      "C:\\Users\\User\\Anaconda3\\lib\\site-packages\\urllib3\\connectionpool.py:847: InsecureRequestWarning: Unverified HTTPS request is being made. Adding certificate verification is strongly advised. See: https://urllib3.readthedocs.io/en/latest/advanced-usage.html#ssl-warnings\n",
      "  InsecureRequestWarning)\n",
      "C:\\Users\\User\\Anaconda3\\lib\\site-packages\\urllib3\\connectionpool.py:847: InsecureRequestWarning: Unverified HTTPS request is being made. Adding certificate verification is strongly advised. See: https://urllib3.readthedocs.io/en/latest/advanced-usage.html#ssl-warnings\n",
      "  InsecureRequestWarning)\n",
      "C:\\Users\\User\\Anaconda3\\lib\\site-packages\\urllib3\\connectionpool.py:847: InsecureRequestWarning: Unverified HTTPS request is being made. Adding certificate verification is strongly advised. See: https://urllib3.readthedocs.io/en/latest/advanced-usage.html#ssl-warnings\n",
      "  InsecureRequestWarning)\n",
      "C:\\Users\\User\\Anaconda3\\lib\\site-packages\\urllib3\\connectionpool.py:847: InsecureRequestWarning: Unverified HTTPS request is being made. Adding certificate verification is strongly advised. See: https://urllib3.readthedocs.io/en/latest/advanced-usage.html#ssl-warnings\n",
      "  InsecureRequestWarning)\n",
      "C:\\Users\\User\\Anaconda3\\lib\\site-packages\\urllib3\\connectionpool.py:847: InsecureRequestWarning: Unverified HTTPS request is being made. Adding certificate verification is strongly advised. See: https://urllib3.readthedocs.io/en/latest/advanced-usage.html#ssl-warnings\n",
      "  InsecureRequestWarning)\n",
      "C:\\Users\\User\\Anaconda3\\lib\\site-packages\\urllib3\\connectionpool.py:847: InsecureRequestWarning: Unverified HTTPS request is being made. Adding certificate verification is strongly advised. See: https://urllib3.readthedocs.io/en/latest/advanced-usage.html#ssl-warnings\n",
      "  InsecureRequestWarning)\n",
      "C:\\Users\\User\\Anaconda3\\lib\\site-packages\\urllib3\\connectionpool.py:847: InsecureRequestWarning: Unverified HTTPS request is being made. Adding certificate verification is strongly advised. See: https://urllib3.readthedocs.io/en/latest/advanced-usage.html#ssl-warnings\n",
      "  InsecureRequestWarning)\n",
      "C:\\Users\\User\\Anaconda3\\lib\\site-packages\\urllib3\\connectionpool.py:847: InsecureRequestWarning: Unverified HTTPS request is being made. Adding certificate verification is strongly advised. See: https://urllib3.readthedocs.io/en/latest/advanced-usage.html#ssl-warnings\n",
      "  InsecureRequestWarning)\n",
      "C:\\Users\\User\\Anaconda3\\lib\\site-packages\\urllib3\\connectionpool.py:847: InsecureRequestWarning: Unverified HTTPS request is being made. Adding certificate verification is strongly advised. See: https://urllib3.readthedocs.io/en/latest/advanced-usage.html#ssl-warnings\n",
      "  InsecureRequestWarning)\n",
      "C:\\Users\\User\\Anaconda3\\lib\\site-packages\\urllib3\\connectionpool.py:847: InsecureRequestWarning: Unverified HTTPS request is being made. Adding certificate verification is strongly advised. See: https://urllib3.readthedocs.io/en/latest/advanced-usage.html#ssl-warnings\n",
      "  InsecureRequestWarning)\n",
      "C:\\Users\\User\\Anaconda3\\lib\\site-packages\\urllib3\\connectionpool.py:847: InsecureRequestWarning: Unverified HTTPS request is being made. Adding certificate verification is strongly advised. See: https://urllib3.readthedocs.io/en/latest/advanced-usage.html#ssl-warnings\n",
      "  InsecureRequestWarning)\n"
     ]
    }
   ],
   "source": [
    "yearly_data_soup = {x: None for x in range(2008,2020)}\n",
    "for year,url in url_with_years.items():\n",
    "    content = http.request(\"GET\",url)\n",
    "    souper = bs(content.data)\n",
    "    yearly_data_soup[year] = souper.find(\"div\",{\"data-url\":\"/jskeet\"}).find(\"g\").contents"
   ]
  },
  {
   "cell_type": "code",
   "execution_count": null,
   "metadata": {},
   "outputs": [],
   "source": []
  },
  {
   "cell_type": "code",
   "execution_count": 221,
   "metadata": {},
   "outputs": [
    {
     "name": "stdout",
     "output_type": "stream",
     "text": [
      "{1: 1, 2: 40, 3: 2, 4: 7, 5: 12, 6: 9, 7: 4, 8: 0, 9: 3, 10: 45, 11: 25, 12: 74}\n"
     ]
    }
   ],
   "source": [
    "data_2007_2008 = soup.find(\"div\",{\"data-url\":\"/jskeet\"}).find(\"g\").contents\n",
    "import re\n",
    "def do_it_for_all(dorothy):\n",
    "    pat = re.compile(r'data-count=\\\"[1-9]*\\\"')\n",
    "    date = re.compile(r'\\\"\\d*-\\d*-\\d*\"')\n",
    "    monthly_contribution = {x: 0 for x in range(1,13)}\n",
    "    contri_adder = []\n",
    "    cur_month = 0\n",
    "    contrib = 0\n",
    "    for data in dorothy:\n",
    "        for i in data:\n",
    "            if not isinstance(i.find(\"rect\"),int) and re.findall(pat,str(i)):\n",
    "                contrib = int(\"\".join(re.findall(\"\\d*\",str((re.findall(pat,str(i)))))))\n",
    "                month = int(re.findall(date,str(i))[0][6:8])\n",
    "                cur_month = month\n",
    "                monthly_contribution[month]+=contrib\n",
    "    return monthly_contribution\n",
    "    \n",
    "# print(do_it_for_all(url_with_years[3]))            \n",
    "        \n",
    "print(do_it_for_all(data_2007_2008))\n"
   ]
  },
  {
   "cell_type": "code",
   "execution_count": 225,
   "metadata": {},
   "outputs": [],
   "source": [
    "final_count = {x:None for x in range(2008,2020)}\n",
    "for year, data in yearly_data_soup.items():\n",
    "    final_count[year] = do_it_for_all(data)"
   ]
  },
  {
   "cell_type": "code",
   "execution_count": 3,
   "metadata": {},
   "outputs": [],
   "source": [
    "import pickle\n",
    "import redis\n",
    "\n",
    "r = redis.StrictRedis('localhost')\n",
    "p_mydict = pickle.dumps(final_count)\n",
    "r.set('final_data_jon_skeet',p_mydict)"
   ]
  },
  {
   "cell_type": "code",
   "execution_count": 202,
   "metadata": {},
   "outputs": [],
   "source": [
    "read_dict = r.get('yearly_data_soup')"
   ]
  },
  {
   "cell_type": "code",
   "execution_count": 203,
   "metadata": {},
   "outputs": [],
   "source": [
    "my_dict = pickle.loads(read_dict)"
   ]
  },
  {
   "cell_type": "code",
   "execution_count": 4,
   "metadata": {},
   "outputs": [
    {
     "data": {
      "text/plain": [
       "{2008: {1: 0,\n",
       "  2: 0,\n",
       "  3: 0,\n",
       "  4: 0,\n",
       "  5: 0,\n",
       "  6: 0,\n",
       "  7: 1,\n",
       "  8: 162,\n",
       "  9: 14,\n",
       "  10: 8,\n",
       "  11: 10,\n",
       "  12: 4},\n",
       " 2009: {1: 20,\n",
       "  2: 18,\n",
       "  3: 12,\n",
       "  4: 2,\n",
       "  5: 14,\n",
       "  6: 34,\n",
       "  7: 0,\n",
       "  8: 1,\n",
       "  9: 4,\n",
       "  10: 0,\n",
       "  11: 76,\n",
       "  12: 23},\n",
       " 2010: {1: 1,\n",
       "  2: 40,\n",
       "  3: 2,\n",
       "  4: 7,\n",
       "  5: 12,\n",
       "  6: 9,\n",
       "  7: 4,\n",
       "  8: 0,\n",
       "  9: 3,\n",
       "  10: 45,\n",
       "  11: 25,\n",
       "  12: 74},\n",
       " 2011: {1: 83,\n",
       "  2: 3,\n",
       "  3: 5,\n",
       "  4: 16,\n",
       "  5: 25,\n",
       "  6: 0,\n",
       "  7: 91,\n",
       "  8: 88,\n",
       "  9: 88,\n",
       "  10: 79,\n",
       "  11: 31,\n",
       "  12: 3},\n",
       " 2012: {1: 45,\n",
       "  2: 109,\n",
       "  3: 65,\n",
       "  4: 51,\n",
       "  5: 8,\n",
       "  6: 30,\n",
       "  7: 51,\n",
       "  8: 13,\n",
       "  9: 1,\n",
       "  10: 36,\n",
       "  11: 37,\n",
       "  12: 28},\n",
       " 2013: {1: 63,\n",
       "  2: 31,\n",
       "  3: 79,\n",
       "  4: 96,\n",
       "  5: 8,\n",
       "  6: 101,\n",
       "  7: 72,\n",
       "  8: 10,\n",
       "  9: 9,\n",
       "  10: 5,\n",
       "  11: 70,\n",
       "  12: 7},\n",
       " 2014: {1: 17,\n",
       "  2: 10,\n",
       "  3: 43,\n",
       "  4: 51,\n",
       "  5: 14,\n",
       "  6: 96,\n",
       "  7: 138,\n",
       "  8: 84,\n",
       "  9: 17,\n",
       "  10: 7,\n",
       "  11: 18,\n",
       "  12: 14},\n",
       " 2015: {1: 35,\n",
       "  2: 18,\n",
       "  3: 73,\n",
       "  4: 41,\n",
       "  5: 27,\n",
       "  6: 93,\n",
       "  7: 137,\n",
       "  8: 88,\n",
       "  9: 32,\n",
       "  10: 40,\n",
       "  11: 115,\n",
       "  12: 99},\n",
       " 2016: {1: 105,\n",
       "  2: 123,\n",
       "  3: 99,\n",
       "  4: 242,\n",
       "  5: 253,\n",
       "  6: 159,\n",
       "  7: 219,\n",
       "  8: 95,\n",
       "  9: 198,\n",
       "  10: 154,\n",
       "  11: 183,\n",
       "  12: 183},\n",
       " 2017: {1: 124,\n",
       "  2: 175,\n",
       "  3: 419,\n",
       "  4: 191,\n",
       "  5: 167,\n",
       "  6: 180,\n",
       "  7: 248,\n",
       "  8: 264,\n",
       "  9: 129,\n",
       "  10: 242,\n",
       "  11: 261,\n",
       "  12: 128},\n",
       " 2018: {1: 156,\n",
       "  2: 116,\n",
       "  3: 252,\n",
       "  4: 153,\n",
       "  5: 193,\n",
       "  6: 192,\n",
       "  7: 126,\n",
       "  8: 169,\n",
       "  9: 144,\n",
       "  10: 218,\n",
       "  11: 204,\n",
       "  12: 107},\n",
       " 2019: {1: 133,\n",
       "  2: 281,\n",
       "  3: 255,\n",
       "  4: 339,\n",
       "  5: 225,\n",
       "  6: 183,\n",
       "  7: 286,\n",
       "  8: 232,\n",
       "  9: 254,\n",
       "  10: 296,\n",
       "  11: 112,\n",
       "  12: 0}}"
      ]
     },
     "execution_count": 4,
     "metadata": {},
     "output_type": "execute_result"
    }
   ],
   "source": [
    "in_cache = r.get('final_data_jon_skeet')\n",
    "finall = pickle.loads(in_cache)\n",
    "finall"
   ]
  },
  {
   "cell_type": "code",
   "execution_count": 5,
   "metadata": {},
   "outputs": [],
   "source": [
    "import pandas as pd\n",
    "new_dict = {}\n",
    "\n",
    "for k,v in finall.items():\n",
    "    summer = 0\n",
    "    for j in v.values():\n",
    "        summer+=j\n",
    "    new_dict[k] = summer"
   ]
  },
  {
   "cell_type": "code",
   "execution_count": 6,
   "metadata": {},
   "outputs": [
    {
     "data": {
      "text/plain": [
       "dict_values([199, 204, 222, 512, 474, 551, 509, 798, 2013, 2528, 2030, 2596])"
      ]
     },
     "execution_count": 6,
     "metadata": {},
     "output_type": "execute_result"
    }
   ],
   "source": [
    "new_dict.values()"
   ]
  },
  {
   "cell_type": "code",
   "execution_count": 19,
   "metadata": {},
   "outputs": [
    {
     "data": {
      "text/html": [
       "<div>\n",
       "<style scoped>\n",
       "    .dataframe tbody tr th:only-of-type {\n",
       "        vertical-align: middle;\n",
       "    }\n",
       "\n",
       "    .dataframe tbody tr th {\n",
       "        vertical-align: top;\n",
       "    }\n",
       "\n",
       "    .dataframe thead th {\n",
       "        text-align: right;\n",
       "    }\n",
       "</style>\n",
       "<table border=\"1\" class=\"dataframe\">\n",
       "  <thead>\n",
       "    <tr style=\"text-align: right;\">\n",
       "      <th></th>\n",
       "      <th>x</th>\n",
       "      <th>y</th>\n",
       "      <th>group</th>\n",
       "    </tr>\n",
       "  </thead>\n",
       "  <tbody>\n",
       "    <tr>\n",
       "      <th>0</th>\n",
       "      <td>2008</td>\n",
       "      <td>199</td>\n",
       "      <td>199</td>\n",
       "    </tr>\n",
       "    <tr>\n",
       "      <th>1</th>\n",
       "      <td>2009</td>\n",
       "      <td>204</td>\n",
       "      <td>204</td>\n",
       "    </tr>\n",
       "    <tr>\n",
       "      <th>2</th>\n",
       "      <td>2010</td>\n",
       "      <td>222</td>\n",
       "      <td>222</td>\n",
       "    </tr>\n",
       "    <tr>\n",
       "      <th>3</th>\n",
       "      <td>2011</td>\n",
       "      <td>512</td>\n",
       "      <td>512</td>\n",
       "    </tr>\n",
       "    <tr>\n",
       "      <th>4</th>\n",
       "      <td>2012</td>\n",
       "      <td>474</td>\n",
       "      <td>474</td>\n",
       "    </tr>\n",
       "    <tr>\n",
       "      <th>5</th>\n",
       "      <td>2013</td>\n",
       "      <td>551</td>\n",
       "      <td>551</td>\n",
       "    </tr>\n",
       "    <tr>\n",
       "      <th>6</th>\n",
       "      <td>2014</td>\n",
       "      <td>509</td>\n",
       "      <td>509</td>\n",
       "    </tr>\n",
       "    <tr>\n",
       "      <th>7</th>\n",
       "      <td>2015</td>\n",
       "      <td>798</td>\n",
       "      <td>798</td>\n",
       "    </tr>\n",
       "    <tr>\n",
       "      <th>8</th>\n",
       "      <td>2016</td>\n",
       "      <td>2013</td>\n",
       "      <td>2013</td>\n",
       "    </tr>\n",
       "    <tr>\n",
       "      <th>9</th>\n",
       "      <td>2017</td>\n",
       "      <td>2528</td>\n",
       "      <td>2528</td>\n",
       "    </tr>\n",
       "    <tr>\n",
       "      <th>10</th>\n",
       "      <td>2018</td>\n",
       "      <td>2030</td>\n",
       "      <td>2030</td>\n",
       "    </tr>\n",
       "    <tr>\n",
       "      <th>11</th>\n",
       "      <td>2019</td>\n",
       "      <td>2596</td>\n",
       "      <td>2596</td>\n",
       "    </tr>\n",
       "  </tbody>\n",
       "</table>\n",
       "</div>"
      ],
      "text/plain": [
       "       x     y  group\n",
       "0   2008   199    199\n",
       "1   2009   204    204\n",
       "2   2010   222    222\n",
       "3   2011   512    512\n",
       "4   2012   474    474\n",
       "5   2013   551    551\n",
       "6   2014   509    509\n",
       "7   2015   798    798\n",
       "8   2016  2013   2013\n",
       "9   2017  2528   2528\n",
       "10  2018  2030   2030\n",
       "11  2019  2596   2596"
      ]
     },
     "execution_count": 19,
     "metadata": {},
     "output_type": "execute_result"
    }
   ],
   "source": [
    "from matplotlib import pyplot as plt\n",
    "import pandas as pd\n",
    "import numpy as np\n",
    "df=pd.DataFrame({'x': range(2008,2020), 'y':list(new_dict.values()), 'group':list(new_dict.values())})\n",
    "df"
   ]
  },
  {
   "cell_type": "code",
   "execution_count": 29,
   "metadata": {},
   "outputs": [
    {
     "name": "stderr",
     "output_type": "stream",
     "text": [
      "C:\\Users\\User\\Anaconda3\\lib\\site-packages\\ipykernel_launcher.py:1: RuntimeWarning: Second argument 'y' is ambiguous: could be a color spec but is in data; using as data.  Either rename the entry in data or use three arguments to plot.\n",
      "  \"\"\"Entry point for launching an IPython kernel.\n"
     ]
    },
    {
     "data": {
      "text/plain": [
       "[<matplotlib.lines.Line2D at 0x196f28b5da0>]"
      ]
     },
     "execution_count": 29,
     "metadata": {},
     "output_type": "execute_result"
    },
    {
     "data": {
      "image/png": "[encoded data removed]",
      "text/plain": [
       "<Figure size 432x288 with 1 Axes>"
      ]
     },
     "metadata": {
      "needs_background": "light"
     },
     "output_type": "display_data"
    }
   ],
   "source": [
    "plt.plot( 'x', 'y', data=df, marker='o', color='mediumvioletred')\n"
   ]
  },
  {
   "cell_type": "code",
   "execution_count": 21,
   "metadata": {},
   "outputs": [
    {
     "data": {
      "image/png": "[encoded data removed]",
      "text/plain": [
       "<Figure size 432x288 with 1 Axes>"
      ]
     },
     "metadata": {
      "needs_background": "light"
     },
     "output_type": "display_data"
    }
   ],
   "source": [
    "import seaborn as sns\n",
    "g = sns.lineplot( 'x', 'y', data=df, marker='o', color='mediumvioletred')\n",
    "\n"
   ]
  },
  {
   "cell_type": "code",
   "execution_count": 13,
   "metadata": {},
   "outputs": [],
   "source": [
    "?sns.lineplot"
   ]
  },
  {
   "cell_type": "code",
   "execution_count": 62,
   "metadata": {},
   "outputs": [
    {
     "data": {
      "image/png": "[encoded data removed]",
      "text/plain": [
       "<Figure size 770.4x379.44 with 1 Axes>"
      ]
     },
     "metadata": {
      "needs_background": "light"
     },
     "output_type": "display_data"
    }
   ],
   "source": [
    "fig, ax = plt.subplots(figsize=(10.7, 5.27))\n",
    "p1=sns.lineplot(ax = ax, data=df, x=\"x\", y=\"y\", color=\"mediumvioletred\")\n",
    "\n",
    "for line in range(0,df.shape[0]):\n",
    "     p1.text(df.x[line]+0.2, df.y[line], df.group[line], horizontalalignment='right', size='medium', color='black', weight='semibold')\n",
    "p1.set(xlabel='Year', ylabel='Contributions')\n",
    "fig = p1.get_figure()\n",
    "# savefig(\"ouput.png\")"
   ]
  },
  {
   "cell_type": "code",
   "execution_count": 65,
   "metadata": {},
   "outputs": [],
   "source": [
    "# dir(p1)\n",
    "fig.savefig(\"jon_skeet.png\")"
   ]
  },
  {
   "cell_type": "code",
   "execution_count": null,
   "metadata": {},
   "outputs": [],
   "source": []
  }
 ],
 "metadata": {
  "kernelspec": {
   "display_name": "Python 3",
   "language": "python",
   "name": "python3"
  },
  "language_info": {
   "codemirror_mode": {
    "name": "ipython",
    "version": 3
   },
   "file_extension": ".py",
   "mimetype": "text/x-python",
   "name": "python",
   "nbconvert_exporter": "python",
   "pygments_lexer": "ipython3",
   "version": "3.7.3"
  }
 },
 "nbformat": 4,
 "nbformat_minor": 2
}
